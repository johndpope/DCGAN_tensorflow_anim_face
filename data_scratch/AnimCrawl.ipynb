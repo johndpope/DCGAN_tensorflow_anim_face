{
 "cells": [
  {
   "cell_type": "markdown",
   "metadata": {},
   "source": [
    "# 爬取 [KONACHAN](http://link.zhihu.com/?target=http%3A//konachan.net/) 中的动漫壁纸"
   ]
  },
  {
   "cell_type": "code",
   "execution_count": null,
   "metadata": {
    "scrolled": false
   },
   "outputs": [
    {
     "name": "stdout",
     "output_type": "stream",
     "text": [
      "16 images in page 48\n",
      "Downloading...\n",
      "file exists!\n",
      "Download Konachan.com%20-%20252456%20animal%20chocolate%20food%20fruit%20nobody%20orange_%28fruit%29%20original%20signed%20strawberry%20yutaka_kana.jpg success!\n",
      "file exists!\n",
      "Download Konachan.com%20-%20252455%20animal%20food%20halloween%20hat%20nobody%20original%20pocky%20signed%20witch_hat%20yutaka_kana.jpg success!\n",
      "file exists!\n",
      "Download Konachan.com%20-%20252454%20ane_naru_mono%20breasts%20brown_hair%20chiyo_%28ane_naru_mono%29%20cleavage%20flowers%20long_hair%20pochi_%28pochi-goya%29%20purple_eyes.jpg success!\n",
      "file exists!\n",
      "Download Konachan.com%20-%20252453%20sample.jpg success!\n",
      "file exists!\n",
      "Download Konachan.com%20-%20252452%20sample.jpg success!\n",
      "file exists!\n",
      "Download Konachan.com%20-%20252449%20sample.jpg success!\n",
      "file exists!\n",
      "Download Konachan.com%20-%20252445%20black_hair%20blush%20brown_hair%20chitanda_eru%20green_eyes%20hyouka%20long_hair%20male%20mery_%28apfl0515%29%20oreki_houtarou%20petals%20purple_eyes%20seifuku%20short_hair%20signed.jpg success!\n",
      "file exists!\n",
      "Download Konachan.com%20-%20252444%20animal%20bird%20blue_eyes%20clouds%20gloves%20landscape%20long_hair%20necklace%20original%20ponytail%20ribbons%20scenic%20sky%20tagme_%28artist%29%20watermark%20white_hair.jpg success!\n",
      "file exists!\n",
      "Download Konachan.com%20-%20252443%20sample.jpg success!\n",
      "file exists!\n",
      "Download Konachan.com%20-%20252442%20black_hair%20glasses%20headband%20kazeno%20kneehighs%20long_hair%20original%20phone%20seifuku%20skirt%20sleeping.jpg success!\n",
      "file exists!\n",
      "Download Konachan.com%20-%20252441%20autumn%20black_hair%20book%20boots%20brown_eyes%20dress%20leaves%20original%20shade%20short_hair%20sho_%28shoichi-kokubun%29.jpg success!\n",
      "file exists!\n",
      "Download Konachan.com%20-%20252440%20clouds%20kneehighs%20male%20original%20reflection%20seifuku%20short_hair%20signed%20skirt%20sky%20technoheart%20tree%20water.jpg success!\n",
      "Download Konachan.com%20-%20252439%20sample.jpg success!\n",
      "Download Konachan.com%20-%20252437%20sample.jpg success!\n",
      "Download Konachan.com%20-%20252436%20sample.jpg success!\n",
      "Download Konachan.com%20-%20252432%20sample.jpg success!\n",
      "Download page  48 success.\n",
      "18 images in page 49\n",
      "Downloading...\n",
      "Download Konachan.com%20-%20252431%20sample.jpg success!\n",
      "Download Konachan.com%20-%20252430%20sample.jpg success!\n",
      "Download Konachan.com%20-%20252429%20boots%20bou_nin%20dress%20grass%20long_hair%20original%20petals%20scenic%20thighhighs.jpg success!\n",
      "Download Konachan.com%20-%20252428%20sample.jpg success!\n",
      "Download Konachan.com%20-%20252423%20sample.jpg success!\n",
      "Download Konachan.com%20-%20252418%20sample.jpg success!\n",
      "Download Konachan.com%20-%20252417%20sample.jpg success!\n",
      "Download Konachan.com%20-%20252415%20black_hair%20cape%20dress%20hat%20kono_subarashii_sekai_ni_shukufuku_wo%21%20long_hair%20megumin%20phib%20purple_eyes%20staff%20thighhighs%20weapon%20witch_hat.jpg success!\n",
      "Download Konachan.com%20-%20252413%20sample.jpg success!\n",
      "Download Konachan.com%20-%20252409%20sample.jpg success!\n",
      "Download Konachan.com%20-%20252407%20sample.jpg success!\n",
      "Download Konachan.com%20-%20252406%20sample.jpg success!\n",
      "Download Konachan.com%20-%20252405%20autumn%20black_eyes%20black_hair%20leaves%20long_hair%20night%20original%20pantyhose%20sakeharasu%20seifuku%20skirt%20sky%20stairs%20stars.jpg success!\n",
      "Download Konachan.com%20-%20252403%20aqua_eyes%20blush%20breasts%20brown_hair%20cat_smile%20catgirl%20cleavage%20idolmaster%20long_hair%20navel%20necklace%20petals%20ribbons%20skirt%20tail%20twintails%20wink%20wristwear.jpg success!\n",
      "Download Konachan.com%20-%20252402%20sample.jpg success!\n",
      "Download Konachan.com%20-%20252401%202girls%20blue%20brown_eyes%20brown_hair%20hug%20original%20seifuku%20short_hair%20shoujo_ai%20sketch%20skirt%20socks%20syou_%28endemic_species%29.jpg success!\n"
     ]
    }
   ],
   "source": [
    "import requests\n",
    "from bs4 import BeautifulSoup\n",
    "import os\n",
    "import traceback\n",
    "\n",
    "def download(url, filename):\n",
    "    if os.path.exists(filename):\n",
    "        print('file exists!')\n",
    "        return\n",
    "    try:\n",
    "        r = requests.get(url, stream=True, timeout=60)\n",
    "        r.raise_for_status()\n",
    "        with open(filename, 'wb') as f:\n",
    "            for chunk in r.iter_content(chunk_size=1024):\n",
    "                if chunk:  # filter out keep-alive new chunks\n",
    "                    f.write(chunk)\n",
    "                    f.flush()\n",
    "        return filename\n",
    "    except KeyboardInterrupt:\n",
    "        if os.path.exists(filename):\n",
    "            os.remove(filename)\n",
    "        raise KeyboardInterrupt\n",
    "    except Exception:\n",
    "        traceback.print_exc()\n",
    "        if os.path.exists(filename):\n",
    "            os.remove(filename)\n",
    "\n",
    "root_path = 'landscape'\n",
    "            \n",
    "if os.path.exists(root_path) is False:\n",
    "    os.makedirs(root_path)\n",
    "\n",
    "start = 48\n",
    "end = 50\n",
    "for i in range(start, end + 1):\n",
    "    url = 'http://konachan.net/post?page=%d&tags=' % i\n",
    "    html = requests.get(url).text\n",
    "    soup = BeautifulSoup(html, 'html.parser')\n",
    "    big_image_url = []\n",
    "    for img in soup.find_all('a', class_=\"thumb\"):\n",
    "        big_image_url.append('http://konachan.net' + img['href'])\n",
    "    print len(big_image_url), 'images in page', i\n",
    "    print 'Downloading...'\n",
    "    for big_image_url in big_image_url:\n",
    "        img_html = requests.get(big_image_url).text\n",
    "        img_soup = BeautifulSoup(img_html, 'html.parser')\n",
    "        target_url = 'http:' + img_soup.find('img',class_=\"image\")['src']\n",
    "        filename = os.path.join(root_path, target_url.split('/')[-1])\n",
    "        download(target_url, filename)\n",
    "        print 'Download',target_url.split('/')[-1],'success!'\n",
    "    print 'Download page ', i, 'success.'"
   ]
  },
  {
   "cell_type": "code",
   "execution_count": null,
   "metadata": {
    "collapsed": true
   },
   "outputs": [],
   "source": [
    ""
   ]
  }
 ],
 "metadata": {
  "kernelspec": {
   "display_name": "Python 2",
   "language": "python",
   "name": "python2"
  },
  "language_info": {
   "codemirror_mode": {
    "name": "ipython",
    "version": 2.0
   },
   "file_extension": ".py",
   "mimetype": "text/x-python",
   "name": "python",
   "nbconvert_exporter": "python",
   "pygments_lexer": "ipython2",
   "version": "2.7.13"
  }
 },
 "nbformat": 4,
 "nbformat_minor": 0
}